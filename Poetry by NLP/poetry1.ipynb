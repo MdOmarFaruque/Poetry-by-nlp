{
  "nbformat": 4,
  "nbformat_minor": 0,
  "metadata": {
    "accelerator": "GPU",
    "colab": {
      "name": "Copy of NLP_Week4_Exercise_Shakespeare_Question.ipynb",
      "provenance": [],
      "toc_visible": true
    },
    "kernelspec": {
      "display_name": "Python 3",
      "name": "python3"
    }
  },
  "cells": [
    {
      "cell_type": "code",
      "metadata": {
        "colab_type": "code",
        "id": "BOwsuGQQY9OL",
        "colab": {}
      },
      "source": [
        "from tensorflow.keras.preprocessing.sequence import pad_sequences\n",
        "from tensorflow.keras.layers import Embedding, LSTM, Dense, Dropout, Bidirectional\n",
        "from tensorflow.keras.preprocessing.text import Tokenizer\n",
        "from tensorflow.keras.models import Sequential\n",
        "from tensorflow.keras.optimizers import Adam\n",
        "### YOUR CODE HERE\n",
        "# Figure out how to import regularizers\n",
        "###\n",
        "import tensorflow.keras.utils as ku \n",
        "import numpy as np \n",
        "import tensorflow as tf"
      ],
      "execution_count": 0,
      "outputs": []
    },
    {
      "cell_type": "code",
      "metadata": {
        "colab_type": "code",
        "id": "PRnDnCW-Z7qv",
        "outputId": "2251acb6-7f5c-49f7-aee3-dc16fde0b844",
        "colab": {
          "base_uri": "https://localhost:8080/",
          "height": 196
        }
      },
      "source": [
        "from tensorflow.keras import regularizers\n",
        "tokenizer = Tokenizer()\n",
        "!wget --no-check-certificate \\\n",
        "    https://storage.googleapis.com/laurencemoroney-blog.appspot.com/sonnets.txt \\\n",
        "    -O /tmp/sonnets.txt\n",
        "data = open('/tmp/sonnets.txt').read()\n",
        "\n",
        "corpus = data.lower().split(\"\\n\")\n",
        "\n",
        "\n",
        "tokenizer.fit_on_texts(corpus)\n",
        "total_words = len(tokenizer.word_index) + 1\n",
        "\n",
        "# create input sequences using list of tokens\n",
        "input_sequences = []\n",
        "for line in corpus:\n",
        "\ttoken_list = tokenizer.texts_to_sequences([line])[0]\n",
        "\tfor i in range(1, len(token_list)):\n",
        "\t\tn_gram_sequence = token_list[:i+1]\n",
        "\t\tinput_sequences.append(n_gram_sequence)\n",
        "\n",
        "\n",
        "# pad sequences \n",
        "max_sequence_len = max([len(x) for x in input_sequences])\n",
        "input_sequences = np.array(pad_sequences(input_sequences, maxlen=max_sequence_len, padding='pre'))\n",
        "\n",
        "# create predictors and label\n",
        "predictors, label = input_sequences[:,:-1],input_sequences[:,-1]\n",
        "\n",
        "label = ku.to_categorical(label, num_classes=total_words)"
      ],
      "execution_count": 0,
      "outputs": [
        {
          "output_type": "stream",
          "text": [
            "--2020-05-12 19:07:08--  https://storage.googleapis.com/laurencemoroney-blog.appspot.com/sonnets.txt\n",
            "Resolving storage.googleapis.com (storage.googleapis.com)... 172.217.194.128, 2404:6800:4003:c04::80\n",
            "Connecting to storage.googleapis.com (storage.googleapis.com)|172.217.194.128|:443... connected.\n",
            "HTTP request sent, awaiting response... 200 OK\n",
            "Length: 93578 (91K) [text/plain]\n",
            "Saving to: ‘/tmp/sonnets.txt’\n",
            "\n",
            "\r/tmp/sonnets.txt      0%[                    ]       0  --.-KB/s               \r/tmp/sonnets.txt    100%[===================>]  91.38K  --.-KB/s    in 0.001s  \n",
            "\n",
            "2020-05-12 19:07:08 (157 MB/s) - ‘/tmp/sonnets.txt’ saved [93578/93578]\n",
            "\n"
          ],
          "name": "stdout"
        }
      ]
    },
    {
      "cell_type": "code",
      "metadata": {
        "colab_type": "code",
        "id": "w9vH8Y59ajYL",
        "colab": {}
      },
      "source": [
        "model = Sequential()\n"
      ],
      "execution_count": 0,
      "outputs": []
    },
    {
      "cell_type": "code",
      "metadata": {
        "id": "yTEA3E7C9lUE",
        "colab_type": "code",
        "outputId": "b8fe3cd9-198b-4a55-b169-b97d460373f4",
        "colab": {
          "base_uri": "https://localhost:8080/",
          "height": 358
        }
      },
      "source": [
        "model.add(Embedding(total_words,256,input_length=max_sequence_len-1))\n",
        "    # Your Embedding Layer)\n",
        "model.add(Bidirectional(LSTM(150, return_sequences = True)))\n",
        "# An LSTM Layer)\n",
        "model.add(Dropout(0.2))\n",
        "# A dropout layer)\n",
        "model.add(LSTM(100))\n",
        "# Another LSTM Layer)\n",
        "model.add(Dense(total_words/2, activation='relu', kernel_regularizer=regularizers.l2(0.01)))\n",
        "# A Dense Layer including regularizers)\n",
        "model.add(Dense(total_words, activation='softmax'))\n",
        "# A Dense Layer)\n",
        "# Pick an optimizer\n",
        "model.compile(loss='categorical_crossentropy', optimizer='adam', metrics=['accuracy'])\n",
        "print(model.summary())\n",
        "# Pick a loss function and an optimizer)\n"
      ],
      "execution_count": 0,
      "outputs": [
        {
          "output_type": "stream",
          "text": [
            "Model: \"sequential_3\"\n",
            "_________________________________________________________________\n",
            "Layer (type)                 Output Shape              Param #   \n",
            "=================================================================\n",
            "embedding_7 (Embedding)      (None, 10, 256)           822016    \n",
            "_________________________________________________________________\n",
            "bidirectional_7 (Bidirection (None, 10, 300)           488400    \n",
            "_________________________________________________________________\n",
            "dropout_1 (Dropout)          (None, 10, 300)           0         \n",
            "_________________________________________________________________\n",
            "lstm_9 (LSTM)                (None, 100)               160400    \n",
            "_________________________________________________________________\n",
            "dense_2 (Dense)              (None, 1605)              162105    \n",
            "_________________________________________________________________\n",
            "dense_3 (Dense)              (None, 3211)              5156866   \n",
            "=================================================================\n",
            "Total params: 6,789,787\n",
            "Trainable params: 6,789,787\n",
            "Non-trainable params: 0\n",
            "_________________________________________________________________\n",
            "None\n"
          ],
          "name": "stdout"
        }
      ]
    },
    {
      "cell_type": "code",
      "metadata": {
        "colab_type": "code",
        "id": "AIg2f1HBxqof",
        "outputId": "a4171a79-9048-4d95-9e1a-3295e3b694ca",
        "colab": {
          "base_uri": "https://localhost:8080/",
          "height": 1000
        }
      },
      "source": [
        " history = model.fit(predictors, label, epochs=100, verbose=1)"
      ],
      "execution_count": 0,
      "outputs": [
        {
          "output_type": "stream",
          "text": [
            "Epoch 1/100\n",
            "484/484 [==============================] - 8s 16ms/step - loss: 6.9157 - accuracy: 0.0229\n",
            "Epoch 2/100\n",
            "484/484 [==============================] - 8s 16ms/step - loss: 6.5009 - accuracy: 0.0228\n",
            "Epoch 3/100\n",
            "484/484 [==============================] - 8s 16ms/step - loss: 6.4067 - accuracy: 0.0254\n",
            "Epoch 4/100\n",
            "484/484 [==============================] - 8s 16ms/step - loss: 6.2887 - accuracy: 0.0305\n",
            "Epoch 5/100\n",
            "484/484 [==============================] - 8s 16ms/step - loss: 6.1921 - accuracy: 0.0345\n",
            "Epoch 6/100\n",
            "484/484 [==============================] - 8s 16ms/step - loss: 6.1074 - accuracy: 0.0387\n",
            "Epoch 7/100\n",
            "484/484 [==============================] - 8s 16ms/step - loss: 6.0233 - accuracy: 0.0418\n",
            "Epoch 8/100\n",
            "484/484 [==============================] - 8s 16ms/step - loss: 5.9404 - accuracy: 0.0448\n",
            "Epoch 9/100\n",
            "484/484 [==============================] - 8s 16ms/step - loss: 5.8500 - accuracy: 0.0497\n",
            "Epoch 10/100\n",
            "484/484 [==============================] - 8s 16ms/step - loss: 5.7555 - accuracy: 0.0532\n",
            "Epoch 11/100\n",
            "484/484 [==============================] - 8s 16ms/step - loss: 5.6684 - accuracy: 0.0600\n",
            "Epoch 12/100\n",
            "484/484 [==============================] - 8s 16ms/step - loss: 5.5768 - accuracy: 0.0609\n",
            "Epoch 13/100\n",
            "484/484 [==============================] - 8s 16ms/step - loss: 5.4821 - accuracy: 0.0670\n",
            "Epoch 14/100\n",
            "484/484 [==============================] - 8s 16ms/step - loss: 5.3888 - accuracy: 0.0712\n",
            "Epoch 15/100\n",
            "484/484 [==============================] - 8s 16ms/step - loss: 5.3015 - accuracy: 0.0804\n",
            "Epoch 16/100\n",
            "484/484 [==============================] - 8s 16ms/step - loss: 5.2170 - accuracy: 0.0832\n",
            "Epoch 17/100\n",
            "484/484 [==============================] - 8s 16ms/step - loss: 5.1214 - accuracy: 0.0881\n",
            "Epoch 18/100\n",
            "484/484 [==============================] - 8s 16ms/step - loss: 5.0256 - accuracy: 0.0964\n",
            "Epoch 19/100\n",
            "484/484 [==============================] - 8s 16ms/step - loss: 4.9430 - accuracy: 0.0997\n",
            "Epoch 20/100\n",
            "484/484 [==============================] - 8s 16ms/step - loss: 4.8412 - accuracy: 0.1079\n",
            "Epoch 21/100\n",
            "484/484 [==============================] - 8s 16ms/step - loss: 4.7498 - accuracy: 0.1156\n",
            "Epoch 22/100\n",
            "484/484 [==============================] - 8s 16ms/step - loss: 4.6596 - accuracy: 0.1275\n",
            "Epoch 23/100\n",
            "484/484 [==============================] - 8s 16ms/step - loss: 4.5629 - accuracy: 0.1328\n",
            "Epoch 24/100\n",
            "484/484 [==============================] - 8s 16ms/step - loss: 4.4596 - accuracy: 0.1480\n",
            "Epoch 25/100\n",
            "484/484 [==============================] - 8s 16ms/step - loss: 4.3721 - accuracy: 0.1551\n",
            "Epoch 26/100\n",
            "484/484 [==============================] - 8s 16ms/step - loss: 4.2785 - accuracy: 0.1659\n",
            "Epoch 27/100\n",
            "484/484 [==============================] - 8s 16ms/step - loss: 4.1837 - accuracy: 0.1818\n",
            "Epoch 28/100\n",
            "484/484 [==============================] - 8s 16ms/step - loss: 4.0925 - accuracy: 0.1927\n",
            "Epoch 29/100\n",
            "484/484 [==============================] - 8s 16ms/step - loss: 4.0033 - accuracy: 0.2066\n",
            "Epoch 30/100\n",
            "484/484 [==============================] - 8s 16ms/step - loss: 3.9107 - accuracy: 0.2192\n",
            "Epoch 31/100\n",
            "484/484 [==============================] - 7s 15ms/step - loss: 3.8224 - accuracy: 0.2338\n",
            "Epoch 32/100\n",
            "484/484 [==============================] - 7s 15ms/step - loss: 3.7383 - accuracy: 0.2477\n",
            "Epoch 33/100\n",
            "484/484 [==============================] - 7s 15ms/step - loss: 3.6656 - accuracy: 0.2664\n",
            "Epoch 34/100\n",
            "484/484 [==============================] - 7s 15ms/step - loss: 3.5897 - accuracy: 0.2725\n",
            "Epoch 35/100\n",
            "484/484 [==============================] - 8s 16ms/step - loss: 3.5091 - accuracy: 0.2967\n",
            "Epoch 36/100\n",
            "484/484 [==============================] - 8s 16ms/step - loss: 3.4256 - accuracy: 0.3119\n",
            "Epoch 37/100\n",
            "484/484 [==============================] - 7s 15ms/step - loss: 3.3639 - accuracy: 0.3227\n",
            "Epoch 38/100\n",
            "484/484 [==============================] - 7s 15ms/step - loss: 3.2923 - accuracy: 0.3348\n",
            "Epoch 39/100\n",
            "484/484 [==============================] - 7s 15ms/step - loss: 3.2242 - accuracy: 0.3502\n",
            "Epoch 40/100\n",
            "484/484 [==============================] - 7s 15ms/step - loss: 3.1574 - accuracy: 0.3666\n",
            "Epoch 41/100\n",
            "484/484 [==============================] - 7s 15ms/step - loss: 3.0838 - accuracy: 0.3844\n",
            "Epoch 42/100\n",
            "484/484 [==============================] - 7s 15ms/step - loss: 3.0277 - accuracy: 0.3970\n",
            "Epoch 43/100\n",
            "484/484 [==============================] - 7s 15ms/step - loss: 2.9636 - accuracy: 0.4034\n",
            "Epoch 44/100\n",
            "484/484 [==============================] - 7s 15ms/step - loss: 2.9088 - accuracy: 0.4205\n",
            "Epoch 45/100\n",
            "484/484 [==============================] - 7s 15ms/step - loss: 2.8445 - accuracy: 0.4384\n",
            "Epoch 46/100\n",
            "484/484 [==============================] - 7s 15ms/step - loss: 2.7922 - accuracy: 0.4492\n",
            "Epoch 47/100\n",
            "484/484 [==============================] - 7s 15ms/step - loss: 2.7406 - accuracy: 0.4631\n",
            "Epoch 48/100\n",
            "484/484 [==============================] - 7s 15ms/step - loss: 2.6839 - accuracy: 0.4723\n",
            "Epoch 49/100\n",
            "484/484 [==============================] - 7s 15ms/step - loss: 2.6258 - accuracy: 0.4856\n",
            "Epoch 50/100\n",
            "484/484 [==============================] - 7s 15ms/step - loss: 2.5965 - accuracy: 0.4915\n",
            "Epoch 51/100\n",
            "484/484 [==============================] - 7s 15ms/step - loss: 2.5427 - accuracy: 0.5041\n",
            "Epoch 52/100\n",
            "484/484 [==============================] - 7s 15ms/step - loss: 2.4732 - accuracy: 0.5236\n",
            "Epoch 53/100\n",
            "484/484 [==============================] - 7s 15ms/step - loss: 2.4377 - accuracy: 0.5277\n",
            "Epoch 54/100\n",
            "484/484 [==============================] - 7s 15ms/step - loss: 2.4002 - accuracy: 0.5349\n",
            "Epoch 55/100\n",
            "484/484 [==============================] - 7s 15ms/step - loss: 2.3660 - accuracy: 0.5420\n",
            "Epoch 56/100\n",
            "484/484 [==============================] - 7s 15ms/step - loss: 2.3043 - accuracy: 0.5601\n",
            "Epoch 57/100\n",
            "484/484 [==============================] - 7s 15ms/step - loss: 2.2576 - accuracy: 0.5671\n",
            "Epoch 58/100\n",
            "484/484 [==============================] - 7s 15ms/step - loss: 2.2234 - accuracy: 0.5806\n",
            "Epoch 59/100\n",
            "484/484 [==============================] - 7s 15ms/step - loss: 2.1897 - accuracy: 0.5865\n",
            "Epoch 60/100\n",
            "484/484 [==============================] - 7s 15ms/step - loss: 2.1458 - accuracy: 0.5964\n",
            "Epoch 61/100\n",
            "484/484 [==============================] - 7s 15ms/step - loss: 2.1153 - accuracy: 0.6037\n",
            "Epoch 62/100\n",
            "484/484 [==============================] - 7s 14ms/step - loss: 2.0812 - accuracy: 0.6125\n",
            "Epoch 63/100\n",
            "484/484 [==============================] - 7s 15ms/step - loss: 2.0479 - accuracy: 0.6131\n",
            "Epoch 64/100\n",
            "484/484 [==============================] - 7s 15ms/step - loss: 1.9982 - accuracy: 0.6293\n",
            "Epoch 65/100\n",
            "484/484 [==============================] - 7s 15ms/step - loss: 1.9672 - accuracy: 0.6347\n",
            "Epoch 66/100\n",
            "484/484 [==============================] - 7s 14ms/step - loss: 1.9415 - accuracy: 0.6370\n",
            "Epoch 67/100\n",
            "484/484 [==============================] - 7s 14ms/step - loss: 1.9120 - accuracy: 0.6461\n",
            "Epoch 68/100\n",
            "484/484 [==============================] - 7s 14ms/step - loss: 1.8912 - accuracy: 0.6533\n",
            "Epoch 69/100\n",
            "484/484 [==============================] - 7s 15ms/step - loss: 1.8593 - accuracy: 0.6598\n",
            "Epoch 70/100\n",
            "484/484 [==============================] - 7s 14ms/step - loss: 1.8218 - accuracy: 0.6659\n",
            "Epoch 71/100\n",
            "484/484 [==============================] - 7s 15ms/step - loss: 1.8008 - accuracy: 0.6715\n",
            "Epoch 72/100\n",
            "484/484 [==============================] - 7s 15ms/step - loss: 1.7723 - accuracy: 0.6788\n",
            "Epoch 73/100\n",
            "484/484 [==============================] - 7s 15ms/step - loss: 1.7524 - accuracy: 0.6834\n",
            "Epoch 74/100\n",
            "484/484 [==============================] - 7s 15ms/step - loss: 1.7261 - accuracy: 0.6898\n",
            "Epoch 75/100\n",
            "484/484 [==============================] - 7s 15ms/step - loss: 1.6957 - accuracy: 0.6975\n",
            "Epoch 76/100\n",
            "484/484 [==============================] - 7s 15ms/step - loss: 1.6650 - accuracy: 0.7015\n",
            "Epoch 77/100\n",
            "484/484 [==============================] - 7s 15ms/step - loss: 1.6378 - accuracy: 0.7104\n",
            "Epoch 78/100\n",
            "484/484 [==============================] - 7s 15ms/step - loss: 1.6215 - accuracy: 0.7148\n",
            "Epoch 79/100\n",
            "484/484 [==============================] - 8s 16ms/step - loss: 1.6003 - accuracy: 0.7168\n",
            "Epoch 80/100\n",
            "484/484 [==============================] - 7s 15ms/step - loss: 1.5912 - accuracy: 0.7187\n",
            "Epoch 81/100\n",
            "484/484 [==============================] - 7s 15ms/step - loss: 1.5547 - accuracy: 0.7266\n",
            "Epoch 82/100\n",
            "484/484 [==============================] - 7s 15ms/step - loss: 1.5410 - accuracy: 0.7315\n",
            "Epoch 83/100\n",
            "484/484 [==============================] - 7s 15ms/step - loss: 1.5200 - accuracy: 0.7310\n",
            "Epoch 84/100\n",
            "484/484 [==============================] - 7s 15ms/step - loss: 1.5092 - accuracy: 0.7370\n",
            "Epoch 85/100\n",
            "484/484 [==============================] - 7s 15ms/step - loss: 1.4914 - accuracy: 0.7382\n",
            "Epoch 86/100\n",
            "484/484 [==============================] - 7s 15ms/step - loss: 1.4701 - accuracy: 0.7437\n",
            "Epoch 87/100\n",
            "484/484 [==============================] - 7s 15ms/step - loss: 1.4519 - accuracy: 0.7434\n",
            "Epoch 88/100\n",
            "484/484 [==============================] - 7s 15ms/step - loss: 1.4292 - accuracy: 0.7496\n",
            "Epoch 89/100\n",
            "484/484 [==============================] - 7s 15ms/step - loss: 1.4124 - accuracy: 0.7520\n",
            "Epoch 90/100\n",
            "484/484 [==============================] - 7s 15ms/step - loss: 1.4157 - accuracy: 0.7505\n",
            "Epoch 91/100\n",
            "484/484 [==============================] - 7s 15ms/step - loss: 1.4107 - accuracy: 0.7499\n",
            "Epoch 92/100\n",
            "484/484 [==============================] - 7s 15ms/step - loss: 1.3834 - accuracy: 0.7583\n",
            "Epoch 93/100\n",
            "484/484 [==============================] - 7s 15ms/step - loss: 1.3542 - accuracy: 0.7624\n",
            "Epoch 94/100\n",
            "484/484 [==============================] - 7s 15ms/step - loss: 1.3285 - accuracy: 0.7704\n",
            "Epoch 95/100\n",
            "484/484 [==============================] - 7s 15ms/step - loss: 1.3263 - accuracy: 0.7689\n",
            "Epoch 96/100\n",
            "484/484 [==============================] - 7s 15ms/step - loss: 1.3110 - accuracy: 0.7747\n",
            "Epoch 97/100\n",
            "484/484 [==============================] - 7s 15ms/step - loss: 1.3027 - accuracy: 0.7729\n",
            "Epoch 98/100\n",
            "484/484 [==============================] - 7s 15ms/step - loss: 1.3140 - accuracy: 0.7688\n",
            "Epoch 99/100\n",
            "484/484 [==============================] - 7s 15ms/step - loss: 1.2837 - accuracy: 0.7756\n",
            "Epoch 100/100\n",
            "484/484 [==============================] - 7s 15ms/step - loss: 1.2701 - accuracy: 0.7799\n"
          ],
          "name": "stdout"
        }
      ]
    },
    {
      "cell_type": "code",
      "metadata": {
        "colab_type": "code",
        "id": "1fXTEO3GJ282",
        "outputId": "75bc7a3a-4723-48fc-da1f-f619e5eb4fed",
        "colab": {
          "base_uri": "https://localhost:8080/",
          "height": 545
        }
      },
      "source": [
        "import matplotlib.pyplot as plt\n",
        "acc = history.history['accuracy']\n",
        "loss = history.history['loss']\n",
        "\n",
        "epochs = range(len(acc))\n",
        "\n",
        "plt.plot(epochs, acc, 'b', label='Training accuracy')\n",
        "plt.title('Training accuracy')\n",
        "\n",
        "plt.figure()\n",
        "\n",
        "plt.plot(epochs, loss, 'b', label='Training Loss')\n",
        "plt.title('Training loss')\n",
        "plt.legend()\n",
        "\n",
        "plt.show()"
      ],
      "execution_count": 0,
      "outputs": [
        {
          "output_type": "display_data",
          "data": {
            "image/png": "[encoded data removed]",
            "text/plain": [
              "<Figure size 432x288 with 1 Axes>"
            ]
          },
          "metadata": {
            "tags": [],
            "needs_background": "light"
          }
        },
        {
          "output_type": "display_data",
          "data": {
            "image/png": "[encoded data removed]",
            "text/plain": [
              "<Figure size 432x288 with 1 Axes>"
            ]
          },
          "metadata": {
            "tags": [],
            "needs_background": "light"
          }
        }
      ]
    },
    {
      "cell_type": "code",
      "metadata": {
        "colab_type": "code",
        "id": "6Vc6PHgxa6Hm",
        "outputId": "b7bddb2f-f6da-42f2-fcd8-ea4ed022418d",
        "colab": {
          "base_uri": "https://localhost:8080/",
          "height": 102
        }
      },
      "source": [
        "seed_text = \"Help me Obi Wan Kenobi, you're my only hope\"\n",
        "next_words = 100\n",
        "  \n",
        "for _ in range(next_words):\n",
        "\ttoken_list = tokenizer.texts_to_sequences([seed_text])[0]\n",
        "\ttoken_list = pad_sequences([token_list], maxlen=max_sequence_len-1, padding='pre')\n",
        "\tpredicted = model.predict_classes(token_list, verbose=0)\n",
        "\toutput_word = \"\"\n",
        "\tfor word, index in tokenizer.word_index.items():\n",
        "\t\tif index == predicted:\n",
        "\t\t\toutput_word = word\n",
        "\t\t\tbreak\n",
        "\tseed_text += \" \" + output_word\n",
        "print(seed_text)"
      ],
      "execution_count": 0,
      "outputs": [
        {
          "output_type": "stream",
          "text": [
            "WARNING:tensorflow:From <ipython-input-30-622d307fa19a>:7: Sequential.predict_classes (from tensorflow.python.keras.engine.sequential) is deprecated and will be removed after 2021-01-01.\n",
            "Instructions for updating:\n",
            "Please use instead:* `np.argmax(model.predict(x), axis=-1)`,   if your model does multi-class classification   (e.g. if it uses a `softmax` last-layer activation).* `(model.predict(x) > 0.5).astype(\"int32\")`,   if your model does binary classification   (e.g. if it uses a `sigmoid` last-layer activation).\n",
            "Help me Obi Wan Kenobi, you're my only hope some green thy store as memory joy dead did loving gay gems ' ' age cunning out cunning shadow cunning love thy name exchanged cunning art day time beauty's joy 'will' 'will' where things well did feel they thee knows her own thought ' canst not vex heaven to score joy bright time go new cunning wait to ' luck express'd did frame fled thee cunning might let your beauty's wealth ' ' show love cunning want of him for my pupil pen truth ' ' cunning love cunning love of your steel days some winter's fairest duty thought joy\n"
          ],
          "name": "stdout"
        }
      ]
    },
    {
      "cell_type": "code",
      "metadata": {
        "id": "D5dMHZRGX8ev",
        "colab_type": "code",
        "colab": {}
      },
      "source": [
        ""
      ],
      "execution_count": 0,
      "outputs": []
    }
  ]
}